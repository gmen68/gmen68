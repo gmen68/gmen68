{
 "cells": [
  {
   "cell_type": "code",
   "execution_count": 1,
   "metadata": {
    "scrolled": false
   },
   "outputs": [
    {
     "name": "stdout",
     "output_type": "stream",
     "text": [
      "   RespondentID Have you seen any of the 6 films in the Star Wars franchise?  \\\n",
      "0    3292879998                                                Yes             \n",
      "1    3292879538                                                 No             \n",
      "2    3292765271                                                Yes             \n",
      "3    3292763116                                                Yes             \n",
      "4    3292731220                                                Yes             \n",
      "5    3292719380                                                Yes             \n",
      "6    3292684787                                                Yes             \n",
      "7    3292663732                                                Yes             \n",
      "8    3292654043                                                Yes             \n",
      "9    3292640424                                                Yes             \n",
      "\n",
      "  Do you consider yourself to be a fan of the Star Wars film franchise?  \\\n",
      "0                                                Yes                      \n",
      "1                                                NaN                      \n",
      "2                                                 No                      \n",
      "3                                                Yes                      \n",
      "4                                                Yes                      \n",
      "5                                                Yes                      \n",
      "6                                                Yes                      \n",
      "7                                                Yes                      \n",
      "8                                                Yes                      \n",
      "9                                                 No                      \n",
      "\n",
      "  Which of the following Star Wars films have you seen? Please select all that apply.  \\\n",
      "0           Star Wars: Episode I  The Phantom Menace                                    \n",
      "1                                                NaN                                    \n",
      "2           Star Wars: Episode I  The Phantom Menace                                    \n",
      "3           Star Wars: Episode I  The Phantom Menace                                    \n",
      "4           Star Wars: Episode I  The Phantom Menace                                    \n",
      "5           Star Wars: Episode I  The Phantom Menace                                    \n",
      "6           Star Wars: Episode I  The Phantom Menace                                    \n",
      "7           Star Wars: Episode I  The Phantom Menace                                    \n",
      "8           Star Wars: Episode I  The Phantom Menace                                    \n",
      "9                                                NaN                                    \n",
      "\n",
      "                                    Unnamed: 4  \\\n",
      "0  Star Wars: Episode II  Attack of the Clones   \n",
      "1                                          NaN   \n",
      "2  Star Wars: Episode II  Attack of the Clones   \n",
      "3  Star Wars: Episode II  Attack of the Clones   \n",
      "4  Star Wars: Episode II  Attack of the Clones   \n",
      "5  Star Wars: Episode II  Attack of the Clones   \n",
      "6  Star Wars: Episode II  Attack of the Clones   \n",
      "7  Star Wars: Episode II  Attack of the Clones   \n",
      "8  Star Wars: Episode II  Attack of the Clones   \n",
      "9  Star Wars: Episode II  Attack of the Clones   \n",
      "\n",
      "                                    Unnamed: 5  \\\n",
      "0  Star Wars: Episode III  Revenge of the Sith   \n",
      "1                                          NaN   \n",
      "2  Star Wars: Episode III  Revenge of the Sith   \n",
      "3  Star Wars: Episode III  Revenge of the Sith   \n",
      "4  Star Wars: Episode III  Revenge of the Sith   \n",
      "5  Star Wars: Episode III  Revenge of the Sith   \n",
      "6  Star Wars: Episode III  Revenge of the Sith   \n",
      "7  Star Wars: Episode III  Revenge of the Sith   \n",
      "8  Star Wars: Episode III  Revenge of the Sith   \n",
      "9                                          NaN   \n",
      "\n",
      "                          Unnamed: 6  \\\n",
      "0  Star Wars: Episode IV  A New Hope   \n",
      "1                                NaN   \n",
      "2                                NaN   \n",
      "3  Star Wars: Episode IV  A New Hope   \n",
      "4  Star Wars: Episode IV  A New Hope   \n",
      "5  Star Wars: Episode IV  A New Hope   \n",
      "6  Star Wars: Episode IV  A New Hope   \n",
      "7  Star Wars: Episode IV  A New Hope   \n",
      "8  Star Wars: Episode IV  A New Hope   \n",
      "9                                NaN   \n",
      "\n",
      "                                     Unnamed: 7  \\\n",
      "0  Star Wars: Episode V The Empire Strikes Back   \n",
      "1                                           NaN   \n",
      "2                                           NaN   \n",
      "3  Star Wars: Episode V The Empire Strikes Back   \n",
      "4  Star Wars: Episode V The Empire Strikes Back   \n",
      "5  Star Wars: Episode V The Empire Strikes Back   \n",
      "6  Star Wars: Episode V The Empire Strikes Back   \n",
      "7  Star Wars: Episode V The Empire Strikes Back   \n",
      "8  Star Wars: Episode V The Empire Strikes Back   \n",
      "9                                           NaN   \n",
      "\n",
      "                                 Unnamed: 8  \\\n",
      "0  Star Wars: Episode VI Return of the Jedi   \n",
      "1                                       NaN   \n",
      "2                                       NaN   \n",
      "3  Star Wars: Episode VI Return of the Jedi   \n",
      "4  Star Wars: Episode VI Return of the Jedi   \n",
      "5  Star Wars: Episode VI Return of the Jedi   \n",
      "6  Star Wars: Episode VI Return of the Jedi   \n",
      "7  Star Wars: Episode VI Return of the Jedi   \n",
      "8  Star Wars: Episode VI Return of the Jedi   \n",
      "9                                       NaN   \n",
      "\n",
      "   Please rank the Star Wars films in order of preference with 1 being your favorite film in the franchise and 6 being your least favorite film.  \\\n",
      "0                                                3.0                                                                                               \n",
      "1                                                NaN                                                                                               \n",
      "2                                                1.0                                                                                               \n",
      "3                                                5.0                                                                                               \n",
      "4                                                5.0                                                                                               \n",
      "5                                                1.0                                                                                               \n",
      "6                                                6.0                                                                                               \n",
      "7                                                4.0                                                                                               \n",
      "8                                                5.0                                                                                               \n",
      "9                                                1.0                                                                                               \n",
      "\n",
      "   ...         Unnamed: 28       Which character shot first?  \\\n",
      "0  ...      Very favorably  I don't understand this question   \n",
      "1  ...                 NaN                               NaN   \n",
      "2  ...    Unfamiliar (N/A)  I don't understand this question   \n",
      "3  ...      Very favorably  I don't understand this question   \n",
      "4  ...  Somewhat favorably                            Greedo   \n",
      "5  ...      Very favorably                               Han   \n",
      "6  ...      Very favorably                               Han   \n",
      "7  ...      Very favorably                               Han   \n",
      "8  ...  Somewhat favorably                               Han   \n",
      "9  ...      Very favorably  I don't understand this question   \n",
      "\n",
      "   Are you familiar with the Expanded Universe?  \\\n",
      "0                                           Yes   \n",
      "1                                           NaN   \n",
      "2                                            No   \n",
      "3                                            No   \n",
      "4                                           Yes   \n",
      "5                                           Yes   \n",
      "6                                           Yes   \n",
      "7                                            No   \n",
      "8                                            No   \n",
      "9                                            No   \n",
      "\n",
      "   Do you consider yourself to be a fan of the Expanded Universe?  \\\n",
      "0                                                 No                \n",
      "1                                                NaN                \n",
      "2                                                NaN                \n",
      "3                                                NaN                \n",
      "4                                                 No                \n",
      "5                                                 No                \n",
      "6                                                 No                \n",
      "7                                                NaN                \n",
      "8                                                NaN                \n",
      "9                                                NaN                \n",
      "\n",
      "   Do you consider yourself to be a fan of the Star Trek franchise? Gender  \\\n",
      "0                                                 No                  Male   \n",
      "1                                                Yes                  Male   \n",
      "2                                                 No                  Male   \n",
      "3                                                Yes                  Male   \n",
      "4                                                 No                  Male   \n",
      "5                                                Yes                  Male   \n",
      "6                                                 No                  Male   \n",
      "7                                                Yes                  Male   \n",
      "8                                                 No                  Male   \n",
      "9                                                 No                  Male   \n",
      "\n",
      "     Age     Household Income                         Education  \\\n",
      "0  18-29                  NaN                High school degree   \n",
      "1  18-29         $0 - $24,999                   Bachelor degree   \n",
      "2  18-29         $0 - $24,999                High school degree   \n",
      "3  18-29  $100,000 - $149,999  Some college or Associate degree   \n",
      "4  18-29  $100,000 - $149,999  Some college or Associate degree   \n",
      "5  18-29    $25,000 - $49,999                   Bachelor degree   \n",
      "6  18-29                  NaN                High school degree   \n",
      "7  18-29                  NaN                High school degree   \n",
      "8  18-29         $0 - $24,999  Some college or Associate degree   \n",
      "9  18-29    $25,000 - $49,999  Some college or Associate degree   \n",
      "\n",
      "  Location (Census Region)  \n",
      "0           South Atlantic  \n",
      "1       West South Central  \n",
      "2       West North Central  \n",
      "3       West North Central  \n",
      "4       West North Central  \n",
      "5          Middle Atlantic  \n",
      "6       East North Central  \n",
      "7           South Atlantic  \n",
      "8           South Atlantic  \n",
      "9                  Pacific  \n",
      "\n",
      "[10 rows x 38 columns]\n"
     ]
    }
   ],
   "source": [
    "import pandas as pd\n",
    "import numpy as np\n",
    "star_wars = pd.read_csv(\"star_wars.csv\", encoding=\"ISO-8859-1\")\n",
    "print(star_wars.head(10))"
   ]
  },
  {
   "cell_type": "code",
   "execution_count": 2,
   "metadata": {},
   "outputs": [
    {
     "name": "stdout",
     "output_type": "stream",
     "text": [
      "Index(['RespondentID',\n",
      "       'Have you seen any of the 6 films in the Star Wars franchise?',\n",
      "       'Do you consider yourself to be a fan of the Star Wars film franchise?',\n",
      "       'Which of the following Star Wars films have you seen? Please select all that apply.',\n",
      "       'Unnamed: 4', 'Unnamed: 5', 'Unnamed: 6', 'Unnamed: 7', 'Unnamed: 8',\n",
      "       'Please rank the Star Wars films in order of preference with 1 being your favorite film in the franchise and 6 being your least favorite film.',\n",
      "       'Unnamed: 10', 'Unnamed: 11', 'Unnamed: 12', 'Unnamed: 13',\n",
      "       'Unnamed: 14',\n",
      "       'Please state whether you view the following characters favorably, unfavorably, or are unfamiliar with him/her.',\n",
      "       'Unnamed: 16', 'Unnamed: 17', 'Unnamed: 18', 'Unnamed: 19',\n",
      "       'Unnamed: 20', 'Unnamed: 21', 'Unnamed: 22', 'Unnamed: 23',\n",
      "       'Unnamed: 24', 'Unnamed: 25', 'Unnamed: 26', 'Unnamed: 27',\n",
      "       'Unnamed: 28', 'Which character shot first?',\n",
      "       'Are you familiar with the Expanded Universe?',\n",
      "       'Do you consider yourself to be a fan of the Expanded Universe?',\n",
      "       'Do you consider yourself to be a fan of the Star Trek franchise?',\n",
      "       'Gender', 'Age', 'Household Income', 'Education',\n",
      "       'Location (Census Region)'],\n",
      "      dtype='object')\n"
     ]
    }
   ],
   "source": [
    "print (star_wars.columns)\n"
   ]
  },
  {
   "cell_type": "code",
   "execution_count": 3,
   "metadata": {},
   "outputs": [
    {
     "data": {
      "text/plain": [
       "Yes    936\n",
       "No     250\n",
       "Name: Have you seen any of the 6 films in the Star Wars franchise?, dtype: int64"
      ]
     },
     "execution_count": 3,
     "metadata": {},
     "output_type": "execute_result"
    }
   ],
   "source": [
    "star_wars['Have you seen any of the 6 films in the Star Wars franchise?'].value_counts()"
   ]
  },
  {
   "cell_type": "code",
   "execution_count": 4,
   "metadata": {},
   "outputs": [
    {
     "data": {
      "text/plain": [
       "Yes    552\n",
       "No     284\n",
       "Name: Do you consider yourself to be a fan of the Star Wars film franchise?, dtype: int64"
      ]
     },
     "execution_count": 4,
     "metadata": {},
     "output_type": "execute_result"
    }
   ],
   "source": [
    "star_wars['Do you consider yourself to be a fan of the Star Wars film franchise?'].value_counts()"
   ]
  },
  {
   "cell_type": "code",
   "execution_count": 5,
   "metadata": {},
   "outputs": [
    {
     "data": {
      "text/plain": [
       "True     936\n",
       "False    250\n",
       "Name: Have you seen any of the 6 films in the Star Wars franchise?, dtype: int64"
      ]
     },
     "execution_count": 5,
     "metadata": {},
     "output_type": "execute_result"
    }
   ],
   "source": [
    "yes_no = {\n",
    "    \"Yes\": True,\n",
    "    \"No\": False\n",
    "}\n",
    "\n",
    "star_wars['Have you seen any of the 6 films in the Star Wars franchise?'] = star_wars['Have you seen any of the 6 films in the Star Wars franchise?'].map(yes_no)\n",
    "star_wars['Have you seen any of the 6 films in the Star Wars franchise?'].value_counts()\n"
   ]
  },
  {
   "cell_type": "code",
   "execution_count": 6,
   "metadata": {},
   "outputs": [
    {
     "data": {
      "text/plain": [
       "True     552\n",
       "False    284\n",
       "Name: Do you consider yourself to be a fan of the Star Wars film franchise?, dtype: int64"
      ]
     },
     "execution_count": 6,
     "metadata": {},
     "output_type": "execute_result"
    }
   ],
   "source": [
    "star_wars['Do you consider yourself to be a fan of the Star Wars film franchise?'] = star_wars['Do you consider yourself to be a fan of the Star Wars film franchise?'].map(yes_no)\n",
    "star_wars['Do you consider yourself to be a fan of the Star Wars film franchise?'].value_counts()"
   ]
  },
  {
   "cell_type": "code",
   "execution_count": 7,
   "metadata": {},
   "outputs": [],
   "source": [
    "seen_yes_no = {\n",
    "    \"Star Wars: Episode I  The Phantom Menace\": True,\n",
    "    \"Star Wars: Episode II  Attack of the Clones\": True,\n",
    "    \"Star Wars: Episode III  Revenge of the Sith\": True,\n",
    "    \"Star Wars: Episode IV  A New Hope\": True,\n",
    "    \"Star Wars: Episode V The Empire Strikes Back\": True,\n",
    "    \"Star Wars: Episode VI Return of the Jedi\": True,\n",
    "    np.NaN: False\n",
    "}\n",
    "\n",
    "for c in star_wars.columns[3:9]:\n",
    "    star_wars[c]=star_wars[c].map(seen_yes_no)"
   ]
  },
  {
   "cell_type": "code",
   "execution_count": 8,
   "metadata": {},
   "outputs": [],
   "source": [
    "newnames = {\"Which of the following Star Wars films have you seen? Please select all that apply.\": \"seen_1\",'Unnamed: 4':'seen_2','Unnamed: 5':'seen_3','Unnamed: 6':'seen_4','Unnamed: 7':'seen_5','Unnamed: 8':'seen_6'}\n",
    "\n",
    "star_wars = star_wars.rename(columns=newnames)\n"
   ]
  },
  {
   "cell_type": "code",
   "execution_count": 9,
   "metadata": {},
   "outputs": [
    {
     "name": "stdout",
     "output_type": "stream",
     "text": [
      "True     673\n",
      "False    513\n",
      "Name: seen_1, dtype: int64\n",
      "False    615\n",
      "True     571\n",
      "Name: seen_2, dtype: int64\n",
      "False    636\n",
      "True     550\n",
      "Name: seen_3, dtype: int64\n",
      "True     607\n",
      "False    579\n",
      "Name: seen_4, dtype: int64\n",
      "True     758\n",
      "False    428\n",
      "Name: seen_5, dtype: int64\n",
      "True     738\n",
      "False    448\n",
      "Name: seen_6, dtype: int64\n"
     ]
    }
   ],
   "source": [
    "for c in star_wars.columns[3:9]:\n",
    "    print(star_wars[c].value_counts())"
   ]
  },
  {
   "cell_type": "code",
   "execution_count": 10,
   "metadata": {},
   "outputs": [],
   "source": [
    "star_wars[star_wars.columns[9:15]] = star_wars[star_wars.columns[9:15]].astype(float)"
   ]
  },
  {
   "cell_type": "code",
   "execution_count": 11,
   "metadata": {},
   "outputs": [],
   "source": [
    "othernames ={'Please rank the Star Wars films in order of preference with 1 being your favorite film in the franchise and 6 being your least favorite film.':'ranking_1','Unnamed: 10':'ranking_2','Unnamed: 11':'ranking_3','Unnamed: 12':'ranking_4','Unnamed: 13':'ranking_5','Unnamed: 14':'ranking_6'}\n",
    "\n",
    "star_wars = star_wars.rename(columns=othernames)"
   ]
  },
  {
   "cell_type": "code",
   "execution_count": 12,
   "metadata": {},
   "outputs": [
    {
     "name": "stdout",
     "output_type": "stream",
     "text": [
      "4.0    237\n",
      "6.0    168\n",
      "3.0    130\n",
      "1.0    129\n",
      "5.0    100\n",
      "2.0     71\n",
      "Name: ranking_1, dtype: int64\n",
      "5.0    300\n",
      "4.0    183\n",
      "2.0    116\n",
      "3.0    103\n",
      "6.0    102\n",
      "1.0     32\n",
      "Name: ranking_2, dtype: int64\n",
      "6.0    217\n",
      "5.0    203\n",
      "4.0    182\n",
      "3.0    150\n",
      "2.0     47\n",
      "1.0     36\n",
      "Name: ranking_3, dtype: int64\n",
      "1.0    204\n",
      "6.0    161\n",
      "2.0    135\n",
      "4.0    130\n",
      "3.0    127\n",
      "5.0     79\n",
      "Name: ranking_4, dtype: int64\n",
      "1.0    289\n",
      "2.0    235\n",
      "5.0    118\n",
      "3.0    106\n",
      "4.0     47\n",
      "6.0     41\n",
      "Name: ranking_5, dtype: int64\n",
      "2.0    232\n",
      "3.0    220\n",
      "1.0    146\n",
      "6.0    145\n",
      "4.0     57\n",
      "5.0     36\n",
      "Name: ranking_6, dtype: int64\n"
     ]
    }
   ],
   "source": [
    "for c in star_wars.columns[9:15]:\n",
    "    print(star_wars[c].value_counts())"
   ]
  },
  {
   "cell_type": "code",
   "execution_count": 13,
   "metadata": {},
   "outputs": [
    {
     "name": "stdout",
     "output_type": "stream",
     "text": [
      "Star Wars 1 tiene un average de:  3.73\n",
      "Star Wars 2 tiene un average de:  4.09\n",
      "Star Wars 3 tiene un average de:  4.34\n",
      "Star Wars 4 tiene un average de:  3.27\n",
      "Star Wars 5 tiene un average de:  2.51\n",
      "Star Wars 6 tiene un average de:  3.05\n"
     ]
    }
   ],
   "source": [
    "rankings={}\n",
    "d=1\n",
    "for c in star_wars.columns[9:15]:\n",
    "    rankings[d]=(star_wars[c].mean())\n",
    "    print('Star Wars',d,'tiene un average de: ', round(star_wars[c].mean(),2))\n",
    "    d +=1"
   ]
  },
  {
   "cell_type": "code",
   "execution_count": 14,
   "metadata": {},
   "outputs": [
    {
     "data": {
      "image/png": "[encoded data removed]",
      "text/plain": [
       "<Figure size 600x400 with 1 Axes>"
      ]
     },
     "metadata": {},
     "output_type": "display_data"
    }
   ],
   "source": [
    "%matplotlib inline\n",
    "import matplotlib.pyplot as plt\n",
    "\n",
    "use = list(rankings.keys())\n",
    "use_num = list(rankings.values())\n",
    "\n",
    "plt.xlabel('Pelicula')\n",
    "plt.title('Ranking por Pelicula')\n",
    "\n",
    "plt.bar(range(len(use_num)), use_num, color='black', tick_label=use)\n",
    "\n",
    "plt.show()\n"
   ]
  },
  {
   "cell_type": "markdown",
   "metadata": {},
   "source": [
    "# Rankings\n",
    "\n",
    "So far, we've cleaned up the data, renamed several columns, and computed the average ranking of each movie. "
   ]
  },
  {
   "cell_type": "code",
   "execution_count": 15,
   "metadata": {},
   "outputs": [
    {
     "name": "stdout",
     "output_type": "stream",
     "text": [
      "Star Wars 1 La han visto:  673\n",
      "Star Wars 2 La han visto:  571\n",
      "Star Wars 3 La han visto:  550\n",
      "Star Wars 4 La han visto:  607\n",
      "Star Wars 5 La han visto:  758\n",
      "Star Wars 6 La han visto:  738\n"
     ]
    }
   ],
   "source": [
    "seens={}\n",
    "d=1\n",
    "for c in star_wars.columns[3:9]:\n",
    "    seens[d]=(star_wars[c].sum())\n",
    "    print('Star Wars',d,'La han visto: ', round(star_wars[c].sum(),2))\n",
    "    d +=1"
   ]
  },
  {
   "cell_type": "code",
   "execution_count": 16,
   "metadata": {},
   "outputs": [
    {
     "data": {
      "image/png": "[encoded data removed]",
      "text/plain": [
       "<Figure size 600x400 with 1 Axes>"
      ]
     },
     "metadata": {},
     "output_type": "display_data"
    }
   ],
   "source": [
    "use2 = list(seens.keys())\n",
    "use_num2 = list(seens.values())\n",
    "\n",
    "\n",
    "plt.xlabel('Pelicula')\n",
    "plt.title('Cantidad de personas que han visto por Pelicula')\n",
    "\n",
    "plt.bar(range(len(use_num2)), use_num2, color='black', tick_label=use2)\n",
    "\n",
    "plt.show()"
   ]
  },
  {
   "cell_type": "markdown",
   "metadata": {},
   "source": [
    "# View counts\n",
    "\n",
    "\n",
    "The original movies have higher watches than the newer movies. It could influence the rankings previously analyzed. "
   ]
  },
  {
   "cell_type": "code",
   "execution_count": 17,
   "metadata": {},
   "outputs": [],
   "source": [
    "male = star_wars[star_wars[\"Gender\"] == \"Male\"]\n",
    "female = star_wars[star_wars[\"Gender\"] == \"Female\"]"
   ]
  },
  {
   "cell_type": "code",
   "execution_count": 18,
   "metadata": {},
   "outputs": [],
   "source": [
    "rankingsmale={}\n",
    "d=1\n",
    "for c in male.columns[9:15]:\n",
    "    rankingsmale[d]=(male[c].mean())\n",
    "    d +=1\n",
    "\n",
    "seensmale={}\n",
    "d=1\n",
    "for c in male.columns[3:9]:\n",
    "    seensmale[d]=(male[c].sum())\n",
    "    d +=1"
   ]
  },
  {
   "cell_type": "code",
   "execution_count": 19,
   "metadata": {},
   "outputs": [],
   "source": [
    "rankingsfemale={}\n",
    "d=1\n",
    "for c in female.columns[9:15]:\n",
    "    rankingsfemale[d]=(female[c].mean())\n",
    "    d +=1\n",
    "\n",
    "seensfemale={}\n",
    "d=1\n",
    "for c in female.columns[3:9]:\n",
    "    seensfemale[d]=(female[c].sum())\n",
    "    d +=1"
   ]
  },
  {
   "cell_type": "code",
   "execution_count": 20,
   "metadata": {},
   "outputs": [
    {
     "data": {
      "image/png": "[encoded data removed]",
      "text/plain": [
       "<Figure size 600x400 with 1 Axes>"
      ]
     },
     "metadata": {},
     "output_type": "display_data"
    },
    {
     "data": {
      "image/png": "[encoded data removed]",
      "text/plain": [
       "<Figure size 600x400 with 1 Axes>"
      ]
     },
     "metadata": {},
     "output_type": "display_data"
    }
   ],
   "source": [
    "X = np.arange(len(rankingsfemale))\n",
    "ax = plt.subplot(111)\n",
    "ax.bar(X, rankingsfemale.values(), width=0.2, color='b', align='center')\n",
    "ax.bar(X-0.2, rankingsmale.values(), width=0.2, color='g', align='center')\n",
    "ax.legend(('rankings female','rankings male'))\n",
    "plt.xticks(X, rankingsfemale.keys())\n",
    "plt.title('Ranking por Pelicula')\n",
    "plt.show()\n",
    "\n",
    "\n",
    "X = np.arange(len(seensfemale))\n",
    "ax = plt.subplot(111)\n",
    "ax.bar(X, seensfemale.values(), width=0.2, color='b', align='center')\n",
    "ax.bar(X-0.2, seensmale.values(), width=0.2, color='g', align='center')\n",
    "ax.legend(('seens female','seens male'))\n",
    "plt.xticks(X, seensfemale.keys())\n",
    "plt.title('Cantidad de personas que han visto por Pelicula')\n",
    "plt.show()"
   ]
  },
  {
   "cell_type": "markdown",
   "metadata": {},
   "source": [
    "# Male/Female differences in favorite Star Wars movie and most seen movie\n",
    "\n",
    "Definetively the movies attract more male vs female viewership, but there is not that much difference in ratings, except that females seem to like more the newer movies. \n"
   ]
  },
  {
   "cell_type": "code",
   "execution_count": 24,
   "metadata": {},
   "outputs": [],
   "source": [
    "trekkies = star_wars[star_wars[\"Do you consider yourself to be a fan of the Star Trek franchise?\"] == \"Yes\"]\n",
    "warsies = star_wars[star_wars[\"Do you consider yourself to be a fan of the Star Wars film franchise?\"] == True]"
   ]
  },
  {
   "cell_type": "code",
   "execution_count": 25,
   "metadata": {},
   "outputs": [],
   "source": [
    "rankingstrek={}\n",
    "d=1\n",
    "for c in trekkies.columns[9:15]:\n",
    "    rankingstrek[d]=(trekkies[c].mean())\n",
    "    d +=1\n",
    "\n",
    "seenstrek={}\n",
    "d=1\n",
    "for c in trekkies.columns[3:9]:\n",
    "    seenstrek[d]=(trekkies[c].sum())\n",
    "    d +=1\n",
    "    \n",
    "    \n",
    "rankingswars={}\n",
    "d=1\n",
    "for c in warsies.columns[9:15]:\n",
    "    rankingswars[d]=(warsies[c].mean())\n",
    "    d +=1\n",
    "\n",
    "seenswars={}\n",
    "d=1\n",
    "for c in warsies.columns[3:9]:\n",
    "    seenswars[d]=(warsies[c].sum())\n",
    "    d +=1    "
   ]
  },
  {
   "cell_type": "code",
   "execution_count": 26,
   "metadata": {},
   "outputs": [
    {
     "data": {
      "image/png": "[encoded data removed]",
      "text/plain": [
       "<Figure size 600x400 with 1 Axes>"
      ]
     },
     "metadata": {},
     "output_type": "display_data"
    },
    {
     "data": {
      "image/png": "[encoded data removed]",
      "text/plain": [
       "<Figure size 600x400 with 1 Axes>"
      ]
     },
     "metadata": {},
     "output_type": "display_data"
    }
   ],
   "source": [
    "X = np.arange(len(rankingswars))\n",
    "ax = plt.subplot(111)\n",
    "ax.bar(X, rankingswars.values(), width=0.2, color='b', align='center')\n",
    "ax.bar(X-0.2, rankingstrek.values(), width=0.2, color='g', align='center')\n",
    "ax.legend(('rankings fans Star Wars','rankings fans Star Trek'))\n",
    "plt.xticks(X, rankingswars.keys())\n",
    "plt.title('Ranking por Pelicula')\n",
    "plt.show()\n",
    "\n",
    "\n",
    "X = np.arange(len(seenswars))\n",
    "ax = plt.subplot(111)\n",
    "ax.bar(X, seenswars.values(), width=0.2, color='b', align='center')\n",
    "ax.bar(X-0.2, seenstrek.values(), width=0.2, color='g', align='center')\n",
    "ax.legend(('seens fans Star Wars','seens fans Star Trek'))\n",
    "plt.xticks(X, seenswars.keys())\n",
    "plt.title('Cantidad de personas que han visto por Pelicula')\n",
    "plt.show()"
   ]
  },
  {
   "cell_type": "markdown",
   "metadata": {},
   "source": [
    "# Fans of Star Trek vs Fans of Star Wards differences in favorite Star Wars movie and most seen movie\n",
    "\n",
    "Definetively the movies attract more Star Wars fans as expected vs Star Trek fans , but there is no significant difference in ratings. "
   ]
  },
  {
   "cell_type": "code",
   "execution_count": 27,
   "metadata": {},
   "outputs": [
    {
     "data": {
      "text/plain": [
       "Han                                 325\n",
       "I don't understand this question    306\n",
       "Greedo                              197\n",
       "Name: Which character shot first?, dtype: int64"
      ]
     },
     "execution_count": 27,
     "metadata": {},
     "output_type": "execute_result"
    }
   ],
   "source": [
    "star_wars['Which character shot first?'].value_counts()"
   ]
  },
  {
   "cell_type": "code",
   "execution_count": 29,
   "metadata": {},
   "outputs": [],
   "source": [
    "which = star_wars[star_wars[\"Which character shot first?\"].isin([\"Han\", \"Greedo\"])]"
   ]
  },
  {
   "cell_type": "code",
   "execution_count": 36,
   "metadata": {},
   "outputs": [
    {
     "data": {
      "text/plain": [
       "<matplotlib.axes._subplots.AxesSubplot at 0x7f479a6ac400>"
      ]
     },
     "execution_count": 36,
     "metadata": {},
     "output_type": "execute_result"
    },
    {
     "data": {
      "image/png": "[encoded data removed]",
      "text/plain": [
       "<Figure size 600x400 with 1 Axes>"
      ]
     },
     "metadata": {},
     "output_type": "display_data"
    }
   ],
   "source": [
    "which[\"Which character shot first?\"].value_counts().plot.bar(x=' ', y=' ', title = 'Who shot first?', rot=0)"
   ]
  },
  {
   "cell_type": "markdown",
   "metadata": {},
   "source": [
    "# Who shot first?\n",
    "\n",
    "It seems that Han shot first, given the majority of answers on those that answered the question. "
   ]
  },
  {
   "cell_type": "code",
   "execution_count": null,
   "metadata": {},
   "outputs": [],
   "source": []
  }
 ],
 "metadata": {
  "kernelspec": {
   "display_name": "Python 3",
   "language": "python",
   "name": "python3"
  },
  "language_info": {
   "codemirror_mode": {
    "name": "ipython",
    "version": 3
   },
   "file_extension": ".py",
   "mimetype": "text/x-python",
   "name": "python",
   "nbconvert_exporter": "python",
   "pygments_lexer": "ipython3",
   "version": "3.8.2"
  }
 },
 "nbformat": 4,
 "nbformat_minor": 1
}
